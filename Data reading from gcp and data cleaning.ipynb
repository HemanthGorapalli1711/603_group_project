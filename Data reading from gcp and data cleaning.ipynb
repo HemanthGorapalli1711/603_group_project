{
 "cells": [
  {
   "cell_type": "markdown",
   "id": "7235459d",
   "metadata": {},
   "source": [
    "# Predictive Analysis on Motor vehicle Collisions in New York City"
   ]
  },
  {
   "cell_type": "markdown",
   "id": "f4f4f44a",
   "metadata": {},
   "source": [
    "Importing all the necessary libraries"
   ]
  },
  {
   "cell_type": "code",
   "execution_count": 1,
   "id": "6d7c98b3",
   "metadata": {},
   "outputs": [],
   "source": [
    "\n",
    "import findspark\n",
    "findspark.init()\n",
    "from pyspark.sql import SparkSession\n",
    "from google.cloud import storage\n",
    "from pyspark.sql.functions import col, mean, avg, coalesce, when, to_date, to_timestamp, udf, lit, percentile_approx, sum, hour, year, dayofweek\n",
    "from pyspark.sql.types import StructType, StructField, StringType, IntegerType, TimestampType, FloatType, DateType, DoubleType\n",
    "from geopy.geocoders import Nominatim\n",
    "import matplotlib.pyplot as plt\n",
    "import pandas as pd\n",
    "import numpy as np\n",
    "import seaborn as sns\n",
    "from pyspark.sql import functions as F\n",
    "import ssl\n",
    "from pyspark.ml.feature import StringIndexer, VectorAssembler\n",
    "from pyspark.ml.regression import LinearRegression\n",
    "from pyspark.ml.evaluation import RegressionEvaluator\n",
    "from pyspark.ml import Pipeline"
   ]
  },
  {
   "cell_type": "markdown",
   "id": "3cfac30b",
   "metadata": {},
   "source": [
    "Creating spark session"
   ]
  },
  {
   "cell_type": "code",
   "execution_count": 2,
   "id": "865fece1",
   "metadata": {},
   "outputs": [
    {
     "name": "stderr",
     "output_type": "stream",
     "text": [
      "24/04/10 16:50:39 WARN Utils: Your hostname, Tejaswinis-MacBook-Pro.local resolves to a loopback address: 127.0.0.1; using 10.0.0.241 instead (on interface en0)\n",
      "24/04/10 16:50:39 WARN Utils: Set SPARK_LOCAL_IP if you need to bind to another address\n",
      "24/04/10 16:50:39 WARN NativeCodeLoader: Unable to load native-hadoop library for your platform... using builtin-java classes where applicable\n",
      "Setting default log level to \"WARN\".\n",
      "To adjust logging level use sc.setLogLevel(newLevel). For SparkR, use setLogLevel(newLevel).\n"
     ]
    }
   ],
   "source": [
    "# Creating a spark session\n",
    "spark = SparkSession.builder \\\n",
    "  .appName('penneni_603_project_sample') \\\n",
    "  .config(\"spark.jars\", \"/usr/local/cellar/apache-spark/3.5.0/libexec/jars/gcs-connector-hadoop3-latest.jar\") \\\n",
    "  .config(\"spark.hadoop.google.cloud.auth.service.account.json.keyfile\", \"/Users/tejaswinipenneni/Downloads/bigdata-project-603-cbaafc8fbd38.json\") \\\n",
    "  .config(\"spark.sql.legacy.timeParserPolicy\", \"LEGACY\") \\\n",
    "  .getOrCreate()"
   ]
  },
  {
   "cell_type": "markdown",
   "id": "e7934c1c",
   "metadata": {},
   "source": [
    "# Reading data from Google Cloud Storage"
   ]
  },
  {
   "cell_type": "markdown",
   "id": "1c6450ff",
   "metadata": {},
   "source": [
    "Accessing the data from Google Cloud Storage"
   ]
  },
  {
   "cell_type": "code",
   "execution_count": 3,
   "id": "058524eb",
   "metadata": {},
   "outputs": [],
   "source": [
    "# Creating a client to interact with Google Cloud Storage\n",
    "gcs_client = storage.Client()\n",
    "\n",
    "# Getting the bucket object\n",
    "bucket = gcs_client.bucket('603-bigdata-project-group')\n"
   ]
  },
  {
   "cell_type": "markdown",
   "id": "d04d0a6f",
   "metadata": {},
   "source": [
    "Read the data from Google Cloud Platform using spark and schema"
   ]
  },
  {
   "cell_type": "code",
   "execution_count": 4,
   "id": "53006ce4",
   "metadata": {},
   "outputs": [
    {
     "name": "stderr",
     "output_type": "stream",
     "text": [
      "24/04/10 16:50:52 WARN GarbageCollectionMetrics: To enable non-built-in garbage collector(s) List(G1 Concurrent GC), users should configure it(them) to spark.eventLog.gcMetrics.youngGenerationGarbageCollectors or spark.eventLog.gcMetrics.oldGenerationGarbageCollectors\n",
      "                                                                                \r"
     ]
    }
   ],
   "source": [
    "# Reading CSV file from GCP using spark\n",
    "data = spark \\\n",
    "  .read \\\n",
    "  .option ( \"inferSchema\" , \"true\" ) \\\n",
    "  .option ( \"header\" , \"true\" ) \\\n",
    "  .csv ( \"gs://603-bigdata-project-group/Motor_Vehicle_Collisions_-_Crashes.csv\" )"
   ]
  },
  {
   "cell_type": "markdown",
   "id": "fb1e0224",
   "metadata": {},
   "source": [
    "printing the Schema of dataset"
   ]
  },
  {
   "cell_type": "code",
   "execution_count": 5,
   "id": "d582bb8f",
   "metadata": {},
   "outputs": [
    {
     "name": "stdout",
     "output_type": "stream",
     "text": [
      "root\n",
      " |-- CRASH DATE: string (nullable = true)\n",
      " |-- CRASH TIME: string (nullable = true)\n",
      " |-- BOROUGH: string (nullable = true)\n",
      " |-- ZIP CODE: string (nullable = true)\n",
      " |-- LATITUDE: double (nullable = true)\n",
      " |-- LONGITUDE: double (nullable = true)\n",
      " |-- LOCATION: string (nullable = true)\n",
      " |-- ON STREET NAME: string (nullable = true)\n",
      " |-- CROSS STREET NAME: string (nullable = true)\n",
      " |-- OFF STREET NAME: string (nullable = true)\n",
      " |-- NUMBER OF PERSONS INJURED: string (nullable = true)\n",
      " |-- NUMBER OF PERSONS KILLED: integer (nullable = true)\n",
      " |-- NUMBER OF PEDESTRIANS INJURED: integer (nullable = true)\n",
      " |-- NUMBER OF PEDESTRIANS KILLED: integer (nullable = true)\n",
      " |-- NUMBER OF CYCLIST INJURED: integer (nullable = true)\n",
      " |-- NUMBER OF CYCLIST KILLED: string (nullable = true)\n",
      " |-- NUMBER OF MOTORIST INJURED: string (nullable = true)\n",
      " |-- NUMBER OF MOTORIST KILLED: integer (nullable = true)\n",
      " |-- CONTRIBUTING FACTOR VEHICLE 1: string (nullable = true)\n",
      " |-- CONTRIBUTING FACTOR VEHICLE 2: string (nullable = true)\n",
      " |-- CONTRIBUTING FACTOR VEHICLE 3: string (nullable = true)\n",
      " |-- CONTRIBUTING FACTOR VEHICLE 4: string (nullable = true)\n",
      " |-- CONTRIBUTING FACTOR VEHICLE 5: string (nullable = true)\n",
      " |-- COLLISION_ID: integer (nullable = true)\n",
      " |-- VEHICLE TYPE CODE 1: string (nullable = true)\n",
      " |-- VEHICLE TYPE CODE 2: string (nullable = true)\n",
      " |-- VEHICLE TYPE CODE 3: string (nullable = true)\n",
      " |-- VEHICLE TYPE CODE 4: string (nullable = true)\n",
      " |-- VEHICLE TYPE CODE 5: string (nullable = true)\n",
      "\n"
     ]
    }
   ],
   "source": [
    "# Printing the schema\n",
    "data.printSchema()"
   ]
  },
  {
   "cell_type": "code",
   "execution_count": 6,
   "id": "2f775666",
   "metadata": {},
   "outputs": [
    {
     "name": "stderr",
     "output_type": "stream",
     "text": [
      "24/04/10 16:50:56 WARN SparkStringUtils: Truncated the string representation of a plan since it was too large. This behavior can be adjusted by setting 'spark.sql.debug.maxToStringFields'.\n"
     ]
    },
    {
     "name": "stdout",
     "output_type": "stream",
     "text": [
      "+----------+----------+---------+--------+---------+----------+--------------------+--------------------+--------------------+--------------------+-------------------------+------------------------+-----------------------------+----------------------------+-------------------------+------------------------+--------------------------+-------------------------+-----------------------------+-----------------------------+-----------------------------+-----------------------------+-----------------------------+------------+--------------------+--------------------+-------------------+-------------------+-------------------+\n",
      "|CRASH DATE|CRASH TIME|  BOROUGH|ZIP CODE| LATITUDE| LONGITUDE|            LOCATION|      ON STREET NAME|   CROSS STREET NAME|     OFF STREET NAME|NUMBER OF PERSONS INJURED|NUMBER OF PERSONS KILLED|NUMBER OF PEDESTRIANS INJURED|NUMBER OF PEDESTRIANS KILLED|NUMBER OF CYCLIST INJURED|NUMBER OF CYCLIST KILLED|NUMBER OF MOTORIST INJURED|NUMBER OF MOTORIST KILLED|CONTRIBUTING FACTOR VEHICLE 1|CONTRIBUTING FACTOR VEHICLE 2|CONTRIBUTING FACTOR VEHICLE 3|CONTRIBUTING FACTOR VEHICLE 4|CONTRIBUTING FACTOR VEHICLE 5|COLLISION_ID| VEHICLE TYPE CODE 1| VEHICLE TYPE CODE 2|VEHICLE TYPE CODE 3|VEHICLE TYPE CODE 4|VEHICLE TYPE CODE 5|\n",
      "+----------+----------+---------+--------+---------+----------+--------------------+--------------------+--------------------+--------------------+-------------------------+------------------------+-----------------------------+----------------------------+-------------------------+------------------------+--------------------------+-------------------------+-----------------------------+-----------------------------+-----------------------------+-----------------------------+-----------------------------+------------+--------------------+--------------------+-------------------+-------------------+-------------------+\n",
      "|09/11/2021|      2:39|     NULL|    NULL|     NULL|      NULL|                NULL|WHITESTONE EXPRES...|           20 AVENUE|                NULL|                        2|                       0|                            0|                           0|                        0|                       0|                         2|                        0|         Aggressive Drivin...|                  Unspecified|                         NULL|                         NULL|                         NULL|     4455765|               Sedan|               Sedan|               NULL|               NULL|               NULL|\n",
      "|03/26/2022|     11:45|     NULL|    NULL|     NULL|      NULL|                NULL|QUEENSBORO BRIDGE...|                NULL|                NULL|                        1|                       0|                            0|                           0|                        0|                       0|                         1|                        0|            Pavement Slippery|                         NULL|                         NULL|                         NULL|                         NULL|     4513547|               Sedan|                NULL|               NULL|               NULL|               NULL|\n",
      "|06/29/2022|      6:55|     NULL|    NULL|     NULL|      NULL|                NULL|  THROGS NECK BRIDGE|                NULL|                NULL|                        0|                       0|                            0|                           0|                        0|                       0|                         0|                        0|         Following Too Clo...|                  Unspecified|                         NULL|                         NULL|                         NULL|     4541903|               Sedan|       Pick-up Truck|               NULL|               NULL|               NULL|\n",
      "|09/11/2021|      9:35| BROOKLYN|   11208|40.667202|  -73.8665|(40.667202, -73.8...|                NULL|                NULL|1211      LORING ...|                        0|                       0|                            0|                           0|                        0|                       0|                         0|                        0|                  Unspecified|                         NULL|                         NULL|                         NULL|                         NULL|     4456314|               Sedan|                NULL|               NULL|               NULL|               NULL|\n",
      "|12/14/2021|      8:13| BROOKLYN|   11233|40.683304|-73.917274|(40.683304, -73.9...|     SARATOGA AVENUE|      DECATUR STREET|                NULL|                        0|                       0|                            0|                           0|                        0|                       0|                         0|                        0|                         NULL|                         NULL|                         NULL|                         NULL|                         NULL|     4486609|                NULL|                NULL|               NULL|               NULL|               NULL|\n",
      "|04/14/2021|     12:47|     NULL|    NULL|     NULL|      NULL|                NULL|MAJOR DEEGAN EXPR...|                NULL|                NULL|                        0|                       0|                            0|                           0|                        0|                       0|                         0|                        0|                  Unspecified|                  Unspecified|                         NULL|                         NULL|                         NULL|     4407458|                Dump|               Sedan|               NULL|               NULL|               NULL|\n",
      "|12/14/2021|     17:05|     NULL|    NULL|40.709183|-73.956825|(40.709183, -73.9...|BROOKLYN QUEENS E...|                NULL|                NULL|                        0|                       0|                            0|                           0|                        0|                       0|                         0|                        0|          Passing Too Closely|                  Unspecified|                         NULL|                         NULL|                         NULL|     4486555|               Sedan|Tractor Truck Diesel|               NULL|               NULL|               NULL|\n",
      "|12/14/2021|      8:17|    BRONX|   10475| 40.86816| -73.83148|(40.86816, -73.83...|                NULL|                NULL|344       BAYCHES...|                        2|                       0|                            0|                           0|                        0|                       0|                         2|                        0|                  Unspecified|                  Unspecified|                         NULL|                         NULL|                         NULL|     4486660|               Sedan|               Sedan|               NULL|               NULL|               NULL|\n",
      "|12/14/2021|     21:10| BROOKLYN|   11207| 40.67172|  -73.8971|(40.67172, -73.8971)|                NULL|                NULL|2047      PITKIN ...|                        0|                       0|                            0|                           0|                        0|                       0|                         0|                        0|          Driver Inexperience|                  Unspecified|                         NULL|                         NULL|                         NULL|     4487074|               Sedan|                NULL|               NULL|               NULL|               NULL|\n",
      "|12/14/2021|     14:58|MANHATTAN|   10017| 40.75144| -73.97397|(40.75144, -73.97...|            3 AVENUE|      EAST 43 STREET|                NULL|                        0|                       0|                            0|                           0|                        0|                       0|                         0|                        0|          Passing Too Closely|                  Unspecified|                         NULL|                         NULL|                         NULL|     4486519|               Sedan|Station Wagon/Spo...|               NULL|               NULL|               NULL|\n",
      "|12/13/2021|      0:34|     NULL|    NULL|40.701275| -73.88887|(40.701275, -73.8...|       MYRTLE AVENUE|                NULL|                NULL|                        0|                       0|                            0|                           0|                        0|                       0|                         0|                        0|         Passing or Lane U...|                  Unspecified|                         NULL|                         NULL|                         NULL|     4486934|Station Wagon/Spo...|                NULL|               NULL|               NULL|               NULL|\n",
      "|12/14/2021|     16:50|   QUEENS|   11413|40.675884| -73.75577|(40.675884, -73.7...|SPRINGFIELD BOULE...|     EAST GATE PLAZA|                NULL|                        0|                       0|                            0|                           0|                        0|                       0|                         0|                        0|           Turning Improperly|                  Unspecified|                         NULL|                         NULL|                         NULL|     4487127|               Sedan|Station Wagon/Spo...|               NULL|               NULL|               NULL|\n",
      "|12/14/2021|      8:30|     NULL|    NULL|     NULL|      NULL|                NULL|            broadway|west 80 street -w...|                NULL|                        0|                       0|                            0|                           0|                        0|                       0|                         0|                        0|         Unsafe Lane Changing|                  Unspecified|                         NULL|                         NULL|                         NULL|     4486634|Station Wagon/Spo...|               Sedan|               NULL|               NULL|               NULL|\n",
      "|12/14/2021|      0:59|     NULL|    NULL| 40.59662| -74.00231|(40.59662, -74.00...|        BELT PARKWAY|                NULL|                NULL|                        0|                       0|                            0|                           0|                        0|                       0|                         0|                        0|                 Unsafe Speed|                         NULL|                         NULL|                         NULL|                         NULL|     4486564|               Sedan|                NULL|               NULL|               NULL|               NULL|\n",
      "|12/14/2021|     23:10|   QUEENS|   11434| 40.66684| -73.78941|(40.66684, -73.78...|NORTH CONDUIT AVENUE|          150 STREET|                NULL|                        2|                       0|                            0|                           0|                        0|                       0|                         2|                        0|         Reaction to Uninv...|                  Unspecified|                         NULL|                         NULL|                         NULL|     4486635|               Sedan|               Sedan|               NULL|               NULL|               NULL|\n",
      "|12/14/2021|     17:58| BROOKLYN|   11217| 40.68158| -73.97463|(40.68158, -73.97...|                NULL|                NULL|480       DEAN ST...|                        0|                       0|                            0|                           0|                        0|                       0|                         0|                        0|          Passing Too Closely|                  Unspecified|                         NULL|                         NULL|                         NULL|     4486604|              Tanker|Station Wagon/Spo...|               NULL|               NULL|               NULL|\n",
      "|12/14/2021|     20:03| BROOKLYN|   11226| 40.65068| -73.95881|(40.65068, -73.95...|                NULL|                NULL|878       FLATBUS...|                        4|                       0|                            0|                           0|                        0|                       0|                         4|                        0|             Steering Failure|                         NULL|                         NULL|                         NULL|                         NULL|     4486991|               Sedan|                NULL|               NULL|               NULL|               NULL|\n",
      "|12/14/2021|      1:28|     NULL|    NULL|     NULL|      NULL|                NULL|       MEEKER AVENUE|      LORIMER STREET|                NULL|                        3|                       0|                            0|                           0|                        0|                       0|                         3|                        0|         Traffic Control D...|                  Unspecified|                         NULL|                         NULL|                         NULL|     4486284|Station Wagon/Spo...|Station Wagon/Spo...|               NULL|               NULL|               NULL|\n",
      "|12/11/2021|     19:43|    BRONX|   10463| 40.87262|-73.904686|(40.87262, -73.90...|WEST KINGSBRIDGE ...|        HEATH AVENUE|                NULL|                        1|                       0|                            0|                           0|                        0|                       0|                         1|                        0|                  Unspecified|                  Unspecified|                         NULL|                         NULL|                         NULL|     4487040|Station Wagon/Spo...|               Sedan|               NULL|               NULL|               NULL|\n",
      "|12/14/2021|     14:30|     NULL|    NULL|40.783268| -73.82485|(40.783268, -73.8...|WHITESTONE EXPRES...|                NULL|                NULL|                        0|                       0|                            0|                           0|                        0|                       0|                         0|                        0|         Following Too Clo...|                  Unspecified|                  Unspecified|                         NULL|                         NULL|     4486537|Station Wagon/Spo...|               Sedan|              Sedan|               NULL|               NULL|\n",
      "+----------+----------+---------+--------+---------+----------+--------------------+--------------------+--------------------+--------------------+-------------------------+------------------------+-----------------------------+----------------------------+-------------------------+------------------------+--------------------------+-------------------------+-----------------------------+-----------------------------+-----------------------------+-----------------------------+-----------------------------+------------+--------------------+--------------------+-------------------+-------------------+-------------------+\n",
      "only showing top 20 rows\n",
      "\n"
     ]
    }
   ],
   "source": [
    "# Displaying the dataframe\n",
    "data.show()"
   ]
  },
  {
   "cell_type": "code",
   "execution_count": 7,
   "id": "35ae51d6",
   "metadata": {},
   "outputs": [
    {
     "name": "stderr",
     "output_type": "stream",
     "text": [
      "[Stage 3:===================================================>       (7 + 1) / 8]\r"
     ]
    },
    {
     "name": "stdout",
     "output_type": "stream",
     "text": [
      "+-------+---------------+----------+-------------+------------------+------------------+------------------+----------+--------------------+--------------------+--------------------+-------------------------+------------------------+-----------------------------+----------------------------+-------------------------+------------------------+--------------------------+-------------------------+-----------------------------+-----------------------------+-----------------------------+-----------------------------+-----------------------------+------------------+-------------------+-------------------+-------------------+-------------------+-------------------+\n",
      "|summary|     CRASH DATE|CRASH TIME|      BOROUGH|          ZIP CODE|          LATITUDE|         LONGITUDE|  LOCATION|      ON STREET NAME|   CROSS STREET NAME|     OFF STREET NAME|NUMBER OF PERSONS INJURED|NUMBER OF PERSONS KILLED|NUMBER OF PEDESTRIANS INJURED|NUMBER OF PEDESTRIANS KILLED|NUMBER OF CYCLIST INJURED|NUMBER OF CYCLIST KILLED|NUMBER OF MOTORIST INJURED|NUMBER OF MOTORIST KILLED|CONTRIBUTING FACTOR VEHICLE 1|CONTRIBUTING FACTOR VEHICLE 2|CONTRIBUTING FACTOR VEHICLE 3|CONTRIBUTING FACTOR VEHICLE 4|CONTRIBUTING FACTOR VEHICLE 5|      COLLISION_ID|VEHICLE TYPE CODE 1|VEHICLE TYPE CODE 2|VEHICLE TYPE CODE 3|VEHICLE TYPE CODE 4|VEHICLE TYPE CODE 5|\n",
      "+-------+---------------+----------+-------------+------------------+------------------+------------------+----------+--------------------+--------------------+--------------------+-------------------------+------------------------+-----------------------------+----------------------------+-------------------------+------------------------+--------------------------+-------------------------+-----------------------------+-----------------------------+-----------------------------+-----------------------------+-----------------------------+------------------+-------------------+-------------------+-------------------+-------------------+-------------------+\n",
      "|  count|        2070070|   2070070|      1426010|           1425760|           1836748|           1836748|   1836748|             1631009|             1288389|              346689|                  2070051|                 2070037|                      2070068|                     2070068|                  2070069|                 2070069|                   2070069|                  2070068|                      2063304|                      1749627|                       147794|                        33347|                         9024|           2070068|            2056479|            1675255|             142467|              32194|               8750|\n",
      "|   mean|           NULL|       0.0|          0.0|10841.351782049465| 40.62763770718379|-73.75202852057879|       0.0|   400.7083333333333|   85.34590163934426|               109.0|       0.3091992947030265|    0.001489828442680...|          0.05643389492519087|         7.39589230885169E-4|       1.6166726809589438|    1.144889926321260...|       0.22241733121810492|     6.125402643777886E-4|            72.88288288288288|            65.37037037037037|                        60.25|                         NULL|                         NULL|3155615.8028108254|  374227.6666666667|             3822.0|               NULL|               NULL|               NULL|\n",
      "| stddev|           NULL|      NULL|         NULL| 553.9865678562772|1.9813289555102271|3.7248742229565903|      NULL|   613.8088839488173|    319.579116742511|                NULL|       0.6995735543942758|     0.04071430859536717|          0.24386906966153873|        0.027660959995218042|         2287.53805109331|    0.010744398191920577|        0.6606842409193319|      0.02709059882576032|           22.721131029281867|           31.271943862422003|                         39.5|                         NULL|                         NULL|1505027.9007051575| 1640818.3972915567| 15635.056207126343|               NULL|               NULL|               NULL|\n",
      "|    min| PARKING LOT).\"|         0|            0|                  |               0.0|        -201.35999|(0.0, 0.0)|                 ...|                 ...|                 ...|                        0|                       0|                            0|                           0|                        0|                       0|                         0|                        0|                            1|                            1|                            1|         Accelerator Defec...|         Aggressive Drivin...|                22|        ''lime mope|              (ceme|         2 dr sedan|         2 dr sedan|         2 dr sedan|\n",
      "|    max|     12/31/2023|      9:59|STATEN ISLAND|             11697|         43.344444|               0.0|         0|estfarms road   ...|     �ST 138 STREET|woodhaven bouleva...|              Unspecified|                       8|                           27|                           6|                  3291249|       PASSENGER VEHICLE|         PASSENGER VEHICLE|                        5|         Windshield Inadeq...|         Windshield Inadeq...|         View Obstructed/L...|         Windshield Inadeq...|                  Unspecified|           4706875|               �MBU|                 yw|              yello|                van|                van|\n",
      "+-------+---------------+----------+-------------+------------------+------------------+------------------+----------+--------------------+--------------------+--------------------+-------------------------+------------------------+-----------------------------+----------------------------+-------------------------+------------------------+--------------------------+-------------------------+-----------------------------+-----------------------------+-----------------------------+-----------------------------+-----------------------------+------------------+-------------------+-------------------+-------------------+-------------------+-------------------+\n",
      "\n"
     ]
    },
    {
     "name": "stderr",
     "output_type": "stream",
     "text": [
      "\r",
      "                                                                                \r"
     ]
    }
   ],
   "source": [
    "# Describe the DataFrame\n",
    "data.describe().show()"
   ]
  },
  {
   "cell_type": "markdown",
   "id": "b707ea80",
   "metadata": {},
   "source": [
    "# DATA CLEANING AND PREPROCESSING"
   ]
  },
  {
   "cell_type": "code",
   "execution_count": 8,
   "id": "cf65e278",
   "metadata": {},
   "outputs": [],
   "source": [
    "# List of columns to remove\n",
    "columns_to_remove = ['CROSS STREET NAME', \n",
    "                     'OFF STREET NAME','CONTRIBUTING FACTOR VEHICLE 2','CONTRIBUTING FACTOR VEHICLE 3',\n",
    "                     'CONTRIBUTING FACTOR VEHICLE 4', \n",
    "                     'CONTRIBUTING FACTOR VEHICLE 5','VEHICLE TYPE CODE 2', 'VEHICLE TYPE CODE 3', \n",
    "                     'VEHICLE TYPE CODE 4', 'VEHICLE TYPE CODE 5']\n",
    "\n",
    "# Remove columns from the DataFrame\n",
    "data = data.drop(*columns_to_remove)"
   ]
  },
  {
   "cell_type": "markdown",
   "id": "bcd3672b",
   "metadata": {},
   "source": [
    "Dropped unnecessary columns from dataframe for analysis"
   ]
  },
  {
   "cell_type": "code",
   "execution_count": 9,
   "id": "f672919f",
   "metadata": {},
   "outputs": [
    {
     "name": "stdout",
     "output_type": "stream",
     "text": [
      "+----------+----------+---------+--------+---------+----------+--------------------+--------------------+-------------------------+------------------------+-----------------------------+----------------------------+-------------------------+------------------------+--------------------------+-------------------------+-----------------------------+------------+--------------------+\n",
      "|CRASH DATE|CRASH TIME|  BOROUGH|ZIP CODE| LATITUDE| LONGITUDE|            LOCATION|      ON STREET NAME|NUMBER OF PERSONS INJURED|NUMBER OF PERSONS KILLED|NUMBER OF PEDESTRIANS INJURED|NUMBER OF PEDESTRIANS KILLED|NUMBER OF CYCLIST INJURED|NUMBER OF CYCLIST KILLED|NUMBER OF MOTORIST INJURED|NUMBER OF MOTORIST KILLED|CONTRIBUTING FACTOR VEHICLE 1|COLLISION_ID| VEHICLE TYPE CODE 1|\n",
      "+----------+----------+---------+--------+---------+----------+--------------------+--------------------+-------------------------+------------------------+-----------------------------+----------------------------+-------------------------+------------------------+--------------------------+-------------------------+-----------------------------+------------+--------------------+\n",
      "|09/11/2021|      2:39|     NULL|    NULL|     NULL|      NULL|                NULL|WHITESTONE EXPRES...|                        2|                       0|                            0|                           0|                        0|                       0|                         2|                        0|         Aggressive Drivin...|     4455765|               Sedan|\n",
      "|03/26/2022|     11:45|     NULL|    NULL|     NULL|      NULL|                NULL|QUEENSBORO BRIDGE...|                        1|                       0|                            0|                           0|                        0|                       0|                         1|                        0|            Pavement Slippery|     4513547|               Sedan|\n",
      "|06/29/2022|      6:55|     NULL|    NULL|     NULL|      NULL|                NULL|  THROGS NECK BRIDGE|                        0|                       0|                            0|                           0|                        0|                       0|                         0|                        0|         Following Too Clo...|     4541903|               Sedan|\n",
      "|09/11/2021|      9:35| BROOKLYN|   11208|40.667202|  -73.8665|(40.667202, -73.8...|                NULL|                        0|                       0|                            0|                           0|                        0|                       0|                         0|                        0|                  Unspecified|     4456314|               Sedan|\n",
      "|12/14/2021|      8:13| BROOKLYN|   11233|40.683304|-73.917274|(40.683304, -73.9...|     SARATOGA AVENUE|                        0|                       0|                            0|                           0|                        0|                       0|                         0|                        0|                         NULL|     4486609|                NULL|\n",
      "|04/14/2021|     12:47|     NULL|    NULL|     NULL|      NULL|                NULL|MAJOR DEEGAN EXPR...|                        0|                       0|                            0|                           0|                        0|                       0|                         0|                        0|                  Unspecified|     4407458|                Dump|\n",
      "|12/14/2021|     17:05|     NULL|    NULL|40.709183|-73.956825|(40.709183, -73.9...|BROOKLYN QUEENS E...|                        0|                       0|                            0|                           0|                        0|                       0|                         0|                        0|          Passing Too Closely|     4486555|               Sedan|\n",
      "|12/14/2021|      8:17|    BRONX|   10475| 40.86816| -73.83148|(40.86816, -73.83...|                NULL|                        2|                       0|                            0|                           0|                        0|                       0|                         2|                        0|                  Unspecified|     4486660|               Sedan|\n",
      "|12/14/2021|     21:10| BROOKLYN|   11207| 40.67172|  -73.8971|(40.67172, -73.8971)|                NULL|                        0|                       0|                            0|                           0|                        0|                       0|                         0|                        0|          Driver Inexperience|     4487074|               Sedan|\n",
      "|12/14/2021|     14:58|MANHATTAN|   10017| 40.75144| -73.97397|(40.75144, -73.97...|            3 AVENUE|                        0|                       0|                            0|                           0|                        0|                       0|                         0|                        0|          Passing Too Closely|     4486519|               Sedan|\n",
      "|12/13/2021|      0:34|     NULL|    NULL|40.701275| -73.88887|(40.701275, -73.8...|       MYRTLE AVENUE|                        0|                       0|                            0|                           0|                        0|                       0|                         0|                        0|         Passing or Lane U...|     4486934|Station Wagon/Spo...|\n",
      "|12/14/2021|     16:50|   QUEENS|   11413|40.675884| -73.75577|(40.675884, -73.7...|SPRINGFIELD BOULE...|                        0|                       0|                            0|                           0|                        0|                       0|                         0|                        0|           Turning Improperly|     4487127|               Sedan|\n",
      "|12/14/2021|      8:30|     NULL|    NULL|     NULL|      NULL|                NULL|            broadway|                        0|                       0|                            0|                           0|                        0|                       0|                         0|                        0|         Unsafe Lane Changing|     4486634|Station Wagon/Spo...|\n",
      "|12/14/2021|      0:59|     NULL|    NULL| 40.59662| -74.00231|(40.59662, -74.00...|        BELT PARKWAY|                        0|                       0|                            0|                           0|                        0|                       0|                         0|                        0|                 Unsafe Speed|     4486564|               Sedan|\n",
      "|12/14/2021|     23:10|   QUEENS|   11434| 40.66684| -73.78941|(40.66684, -73.78...|NORTH CONDUIT AVENUE|                        2|                       0|                            0|                           0|                        0|                       0|                         2|                        0|         Reaction to Uninv...|     4486635|               Sedan|\n",
      "|12/14/2021|     17:58| BROOKLYN|   11217| 40.68158| -73.97463|(40.68158, -73.97...|                NULL|                        0|                       0|                            0|                           0|                        0|                       0|                         0|                        0|          Passing Too Closely|     4486604|              Tanker|\n",
      "|12/14/2021|     20:03| BROOKLYN|   11226| 40.65068| -73.95881|(40.65068, -73.95...|                NULL|                        4|                       0|                            0|                           0|                        0|                       0|                         4|                        0|             Steering Failure|     4486991|               Sedan|\n",
      "|12/14/2021|      1:28|     NULL|    NULL|     NULL|      NULL|                NULL|       MEEKER AVENUE|                        3|                       0|                            0|                           0|                        0|                       0|                         3|                        0|         Traffic Control D...|     4486284|Station Wagon/Spo...|\n",
      "|12/11/2021|     19:43|    BRONX|   10463| 40.87262|-73.904686|(40.87262, -73.90...|WEST KINGSBRIDGE ...|                        1|                       0|                            0|                           0|                        0|                       0|                         1|                        0|                  Unspecified|     4487040|Station Wagon/Spo...|\n",
      "|12/14/2021|     14:30|     NULL|    NULL|40.783268| -73.82485|(40.783268, -73.8...|WHITESTONE EXPRES...|                        0|                       0|                            0|                           0|                        0|                       0|                         0|                        0|         Following Too Clo...|     4486537|Station Wagon/Spo...|\n",
      "+----------+----------+---------+--------+---------+----------+--------------------+--------------------+-------------------------+------------------------+-----------------------------+----------------------------+-------------------------+------------------------+--------------------------+-------------------------+-----------------------------+------------+--------------------+\n",
      "only showing top 20 rows\n",
      "\n"
     ]
    }
   ],
   "source": [
    "# displaying updated dataframe\n",
    "data.show()"
   ]
  },
  {
   "cell_type": "code",
   "execution_count": 10,
   "id": "619d6ba0",
   "metadata": {},
   "outputs": [
    {
     "name": "stdout",
     "output_type": "stream",
     "text": [
      "root\n",
      " |-- CRASH DATE: string (nullable = true)\n",
      " |-- CRASH TIME: string (nullable = true)\n",
      " |-- BOROUGH: string (nullable = true)\n",
      " |-- ZIP CODE: string (nullable = true)\n",
      " |-- LATITUDE: double (nullable = true)\n",
      " |-- LONGITUDE: double (nullable = true)\n",
      " |-- LOCATION: string (nullable = true)\n",
      " |-- ON STREET NAME: string (nullable = true)\n",
      " |-- NUMBER OF PERSONS INJURED: string (nullable = true)\n",
      " |-- NUMBER OF PERSONS KILLED: integer (nullable = true)\n",
      " |-- NUMBER OF PEDESTRIANS INJURED: integer (nullable = true)\n",
      " |-- NUMBER OF PEDESTRIANS KILLED: integer (nullable = true)\n",
      " |-- NUMBER OF CYCLIST INJURED: integer (nullable = true)\n",
      " |-- NUMBER OF CYCLIST KILLED: string (nullable = true)\n",
      " |-- NUMBER OF MOTORIST INJURED: string (nullable = true)\n",
      " |-- NUMBER OF MOTORIST KILLED: integer (nullable = true)\n",
      " |-- CONTRIBUTING FACTOR VEHICLE 1: string (nullable = true)\n",
      " |-- COLLISION_ID: integer (nullable = true)\n",
      " |-- VEHICLE TYPE CODE 1: string (nullable = true)\n",
      "\n"
     ]
    }
   ],
   "source": [
    "# Print the Dataframe Schema\n",
    "data.printSchema()"
   ]
  },
  {
   "cell_type": "markdown",
   "id": "fd094372",
   "metadata": {},
   "source": [
    "Convert datatypes of dataframe"
   ]
  },
  {
   "cell_type": "code",
   "execution_count": 11,
   "id": "b6a07463",
   "metadata": {},
   "outputs": [
    {
     "name": "stdout",
     "output_type": "stream",
     "text": [
      "root\n",
      " |-- CRASH DATE: date (nullable = true)\n",
      " |-- CRASH TIME: string (nullable = true)\n",
      " |-- BOROUGH: string (nullable = true)\n",
      " |-- ZIP CODE: string (nullable = true)\n",
      " |-- LATITUDE: double (nullable = true)\n",
      " |-- LONGITUDE: double (nullable = true)\n",
      " |-- LOCATION: string (nullable = true)\n",
      " |-- ON STREET NAME: string (nullable = true)\n",
      " |-- NUMBER OF PERSONS INJURED: integer (nullable = true)\n",
      " |-- NUMBER OF PERSONS KILLED: integer (nullable = true)\n",
      " |-- NUMBER OF PEDESTRIANS INJURED: integer (nullable = true)\n",
      " |-- NUMBER OF PEDESTRIANS KILLED: integer (nullable = true)\n",
      " |-- NUMBER OF CYCLIST INJURED: integer (nullable = true)\n",
      " |-- NUMBER OF CYCLIST KILLED: integer (nullable = true)\n",
      " |-- NUMBER OF MOTORIST INJURED: integer (nullable = true)\n",
      " |-- NUMBER OF MOTORIST KILLED: integer (nullable = true)\n",
      " |-- CONTRIBUTING FACTOR VEHICLE 1: string (nullable = true)\n",
      " |-- COLLISION_ID: integer (nullable = true)\n",
      " |-- VEHICLE TYPE CODE 1: string (nullable = true)\n",
      "\n"
     ]
    }
   ],
   "source": [
    "# Converting datatypes of the columns\n",
    "\n",
    "data = data.filter(data[\"CRASH DATE\"].isNotNull()) \\\n",
    "               .withColumn(\"CRASH DATE\", to_date(data[\"CRASH DATE\"], \"MM/dd/yyyy\"))\n",
    "data = data.withColumn(\"NUMBER OF MOTORIST INJURED\", col(\"NUMBER OF MOTORIST INJURED\").cast(\"integer\"))\n",
    "data = data.withColumn(\"NUMBER OF CYCLIST KILLED\", col(\"NUMBER OF CYCLIST KILLED\").cast(\"integer\"))\n",
    "data = data.withColumn(\"NUMBER OF PERSONS INJURED\", col(\"NUMBER OF PERSONS INJURED\").cast(\"integer\"))\n",
    "data.printSchema()\n"
   ]
  },
  {
   "cell_type": "code",
   "execution_count": 12,
   "id": "a0b1ae6b",
   "metadata": {},
   "outputs": [
    {
     "name": "stderr",
     "output_type": "stream",
     "text": [
      "[Stage 7:===================================================>       (7 + 1) / 8]\r"
     ]
    },
    {
     "name": "stdout",
     "output_type": "stream",
     "text": [
      "+----------+----------+-------+--------+--------+---------+--------+--------------+-------------------------+------------------------+-----------------------------+----------------------------+-------------------------+------------------------+--------------------------+-------------------------+-----------------------------+------------+-------------------+\n",
      "|CRASH DATE|CRASH TIME|BOROUGH|ZIP CODE|LATITUDE|LONGITUDE|LOCATION|ON STREET NAME|NUMBER OF PERSONS INJURED|NUMBER OF PERSONS KILLED|NUMBER OF PEDESTRIANS INJURED|NUMBER OF PEDESTRIANS KILLED|NUMBER OF CYCLIST INJURED|NUMBER OF CYCLIST KILLED|NUMBER OF MOTORIST INJURED|NUMBER OF MOTORIST KILLED|CONTRIBUTING FACTOR VEHICLE 1|COLLISION_ID|VEHICLE TYPE CODE 1|\n",
      "+----------+----------+-------+--------+--------+---------+--------+--------------+-------------------------+------------------------+-----------------------------+----------------------------+-------------------------+------------------------+--------------------------+-------------------------+-----------------------------+------------+-------------------+\n",
      "|         1|         0| 644060|  644310|  233322|   233322|  233322|        439061|                       20|                      33|                            2|                           2|                        1|                       2|                         2|                        2|                         6766|           2|              13591|\n",
      "+----------+----------+-------+--------+--------+---------+--------+--------------+-------------------------+------------------------+-----------------------------+----------------------------+-------------------------+------------------------+--------------------------+-------------------------+-----------------------------+------------+-------------------+\n",
      "\n"
     ]
    },
    {
     "name": "stderr",
     "output_type": "stream",
     "text": [
      "\r",
      "                                                                                \r"
     ]
    }
   ],
   "source": [
    "# Check for null values in each column\n",
    "null_counts = data.select([sum(col(column).isNull().cast(\"int\")).alias(column) for column in data.columns])\n",
    "\n",
    "# Show null counts\n",
    "null_counts.show()"
   ]
  },
  {
   "cell_type": "markdown",
   "id": "7da3796f",
   "metadata": {},
   "source": [
    "There are notable null values in columns except in crash date and time. We have handled these null values in the next steps."
   ]
  },
  {
   "cell_type": "markdown",
   "id": "c93e84b3",
   "metadata": {},
   "source": [
    "To handle null values in numerical columns, we have replace with mean value"
   ]
  },
  {
   "cell_type": "code",
   "execution_count": 13,
   "id": "b2847717",
   "metadata": {},
   "outputs": [
    {
     "name": "stderr",
     "output_type": "stream",
     "text": [
      "[Stage 31:==================================================>       (7 + 1) / 8]\r"
     ]
    },
    {
     "name": "stdout",
     "output_type": "stream",
     "text": [
      "+----------+----------+---------+--------+---------+----------+--------------------+--------------------+-------------------------+------------------------+-----------------------------+----------------------------+-------------------------+------------------------+--------------------------+-------------------------+-----------------------------+------------+--------------------+\n",
      "|CRASH DATE|CRASH TIME|  BOROUGH|ZIP CODE| LATITUDE| LONGITUDE|            LOCATION|      ON STREET NAME|NUMBER OF PERSONS INJURED|NUMBER OF PERSONS KILLED|NUMBER OF PEDESTRIANS INJURED|NUMBER OF PEDESTRIANS KILLED|NUMBER OF CYCLIST INJURED|NUMBER OF CYCLIST KILLED|NUMBER OF MOTORIST INJURED|NUMBER OF MOTORIST KILLED|CONTRIBUTING FACTOR VEHICLE 1|COLLISION_ID| VEHICLE TYPE CODE 1|\n",
      "+----------+----------+---------+--------+---------+----------+--------------------+--------------------+-------------------------+------------------------+-----------------------------+----------------------------+-------------------------+------------------------+--------------------------+-------------------------+-----------------------------+------------+--------------------+\n",
      "|2021-09-11|      2:39|     NULL|    NULL|     NULL|      NULL|                NULL|WHITESTONE EXPRES...|                        2|                       0|                            0|                           0|                        0|                       0|                         2|                        0|         Aggressive Drivin...|     4455765|               Sedan|\n",
      "|2022-03-26|     11:45|     NULL|    NULL|     NULL|      NULL|                NULL|QUEENSBORO BRIDGE...|                        1|                       0|                            0|                           0|                        0|                       0|                         1|                        0|            Pavement Slippery|     4513547|               Sedan|\n",
      "|2022-06-29|      6:55|     NULL|    NULL|     NULL|      NULL|                NULL|  THROGS NECK BRIDGE|                        0|                       0|                            0|                           0|                        0|                       0|                         0|                        0|         Following Too Clo...|     4541903|               Sedan|\n",
      "|2021-09-11|      9:35| BROOKLYN|   11208|40.667202|  -73.8665|(40.667202, -73.8...|                NULL|                        0|                       0|                            0|                           0|                        0|                       0|                         0|                        0|                  Unspecified|     4456314|               Sedan|\n",
      "|2021-12-14|      8:13| BROOKLYN|   11233|40.683304|-73.917274|(40.683304, -73.9...|     SARATOGA AVENUE|                        0|                       0|                            0|                           0|                        0|                       0|                         0|                        0|                         NULL|     4486609|                NULL|\n",
      "|2021-04-14|     12:47|     NULL|    NULL|     NULL|      NULL|                NULL|MAJOR DEEGAN EXPR...|                        0|                       0|                            0|                           0|                        0|                       0|                         0|                        0|                  Unspecified|     4407458|                Dump|\n",
      "|2021-12-14|     17:05|     NULL|    NULL|40.709183|-73.956825|(40.709183, -73.9...|BROOKLYN QUEENS E...|                        0|                       0|                            0|                           0|                        0|                       0|                         0|                        0|          Passing Too Closely|     4486555|               Sedan|\n",
      "|2021-12-14|      8:17|    BRONX|   10475| 40.86816| -73.83148|(40.86816, -73.83...|                NULL|                        2|                       0|                            0|                           0|                        0|                       0|                         2|                        0|                  Unspecified|     4486660|               Sedan|\n",
      "|2021-12-14|     21:10| BROOKLYN|   11207| 40.67172|  -73.8971|(40.67172, -73.8971)|                NULL|                        0|                       0|                            0|                           0|                        0|                       0|                         0|                        0|          Driver Inexperience|     4487074|               Sedan|\n",
      "|2021-12-14|     14:58|MANHATTAN|   10017| 40.75144| -73.97397|(40.75144, -73.97...|            3 AVENUE|                        0|                       0|                            0|                           0|                        0|                       0|                         0|                        0|          Passing Too Closely|     4486519|               Sedan|\n",
      "|2021-12-13|      0:34|     NULL|    NULL|40.701275| -73.88887|(40.701275, -73.8...|       MYRTLE AVENUE|                        0|                       0|                            0|                           0|                        0|                       0|                         0|                        0|         Passing or Lane U...|     4486934|Station Wagon/Spo...|\n",
      "|2021-12-14|     16:50|   QUEENS|   11413|40.675884| -73.75577|(40.675884, -73.7...|SPRINGFIELD BOULE...|                        0|                       0|                            0|                           0|                        0|                       0|                         0|                        0|           Turning Improperly|     4487127|               Sedan|\n",
      "|2021-12-14|      8:30|     NULL|    NULL|     NULL|      NULL|                NULL|            broadway|                        0|                       0|                            0|                           0|                        0|                       0|                         0|                        0|         Unsafe Lane Changing|     4486634|Station Wagon/Spo...|\n",
      "|2021-12-14|      0:59|     NULL|    NULL| 40.59662| -74.00231|(40.59662, -74.00...|        BELT PARKWAY|                        0|                       0|                            0|                           0|                        0|                       0|                         0|                        0|                 Unsafe Speed|     4486564|               Sedan|\n",
      "|2021-12-14|     23:10|   QUEENS|   11434| 40.66684| -73.78941|(40.66684, -73.78...|NORTH CONDUIT AVENUE|                        2|                       0|                            0|                           0|                        0|                       0|                         2|                        0|         Reaction to Uninv...|     4486635|               Sedan|\n",
      "|2021-12-14|     17:58| BROOKLYN|   11217| 40.68158| -73.97463|(40.68158, -73.97...|                NULL|                        0|                       0|                            0|                           0|                        0|                       0|                         0|                        0|          Passing Too Closely|     4486604|              Tanker|\n",
      "|2021-12-14|     20:03| BROOKLYN|   11226| 40.65068| -73.95881|(40.65068, -73.95...|                NULL|                        4|                       0|                            0|                           0|                        0|                       0|                         4|                        0|             Steering Failure|     4486991|               Sedan|\n",
      "|2021-12-14|      1:28|     NULL|    NULL|     NULL|      NULL|                NULL|       MEEKER AVENUE|                        3|                       0|                            0|                           0|                        0|                       0|                         3|                        0|         Traffic Control D...|     4486284|Station Wagon/Spo...|\n",
      "|2021-12-11|     19:43|    BRONX|   10463| 40.87262|-73.904686|(40.87262, -73.90...|WEST KINGSBRIDGE ...|                        1|                       0|                            0|                           0|                        0|                       0|                         1|                        0|                  Unspecified|     4487040|Station Wagon/Spo...|\n",
      "|2021-12-14|     14:30|     NULL|    NULL|40.783268| -73.82485|(40.783268, -73.8...|WHITESTONE EXPRES...|                        0|                       0|                            0|                           0|                        0|                       0|                         0|                        0|         Following Too Clo...|     4486537|Station Wagon/Spo...|\n",
      "+----------+----------+---------+--------+---------+----------+--------------------+--------------------+-------------------------+------------------------+-----------------------------+----------------------------+-------------------------+------------------------+--------------------------+-------------------------+-----------------------------+------------+--------------------+\n",
      "only showing top 20 rows\n",
      "\n"
     ]
    },
    {
     "name": "stderr",
     "output_type": "stream",
     "text": [
      "\r",
      "                                                                                \r"
     ]
    }
   ],
   "source": [
    "numerical_columns = [\"NUMBER OF PERSONS INJURED\", \"NUMBER OF PERSONS KILLED\",\n",
    "             \"NUMBER OF PEDESTRIANS INJURED\", \"NUMBER OF PEDESTRIANS KILLED\",\n",
    "             \"NUMBER OF CYCLIST INJURED\", \"NUMBER OF CYCLIST KILLED\",\n",
    "             \"NUMBER OF MOTORIST INJURED\", \"NUMBER OF MOTORIST KILLED\"]\n",
    "\n",
    "# Function to replace null values with mean for each column\n",
    "def replace_null_with_mean(data, column_name):\n",
    "    # Calculate mean\n",
    "    mean_value = data.select(col(column_name)).agg({column_name: \"mean\"}).collect()[0][0]\n",
    "    # Replace null values with mean\n",
    "    return data.fillna({column_name: mean_value})\n",
    "\n",
    "# Replace null values with mean for each numerical column\n",
    "for column in numerical_columns:\n",
    "    data = replace_null_with_mean(data, column)\n",
    "\n",
    "# Show DataFrame with null values replaced by mean\n",
    "data.show()"
   ]
  },
  {
   "cell_type": "markdown",
   "id": "858125c0",
   "metadata": {},
   "source": [
    "Handle String column values with unknown"
   ]
  },
  {
   "cell_type": "code",
   "execution_count": 15,
   "id": "dbb80f31",
   "metadata": {},
   "outputs": [
    {
     "name": "stdout",
     "output_type": "stream",
     "text": [
      "+----------+----------+---------+--------+---------+----------+--------------------+--------------------+-------------------------+------------------------+-----------------------------+----------------------------+-------------------------+------------------------+--------------------------+-------------------------+-----------------------------+------------+--------------------+\n",
      "|CRASH DATE|CRASH TIME|  BOROUGH|ZIP CODE| LATITUDE| LONGITUDE|            LOCATION|      ON STREET NAME|NUMBER OF PERSONS INJURED|NUMBER OF PERSONS KILLED|NUMBER OF PEDESTRIANS INJURED|NUMBER OF PEDESTRIANS KILLED|NUMBER OF CYCLIST INJURED|NUMBER OF CYCLIST KILLED|NUMBER OF MOTORIST INJURED|NUMBER OF MOTORIST KILLED|CONTRIBUTING FACTOR VEHICLE 1|COLLISION_ID| VEHICLE TYPE CODE 1|\n",
      "+----------+----------+---------+--------+---------+----------+--------------------+--------------------+-------------------------+------------------------+-----------------------------+----------------------------+-------------------------+------------------------+--------------------------+-------------------------+-----------------------------+------------+--------------------+\n",
      "|2021-09-11|      2:39|  unknown| unknown|  unknown|   unknown|             unknown|WHITESTONE EXPRES...|                        2|                       0|                            0|                           0|                        0|                       0|                         2|                        0|         Aggressive Drivin...|     4455765|               Sedan|\n",
      "|2022-03-26|     11:45|  unknown| unknown|  unknown|   unknown|             unknown|QUEENSBORO BRIDGE...|                        1|                       0|                            0|                           0|                        0|                       0|                         1|                        0|            Pavement Slippery|     4513547|               Sedan|\n",
      "|2022-06-29|      6:55|  unknown| unknown|  unknown|   unknown|             unknown|  THROGS NECK BRIDGE|                        0|                       0|                            0|                           0|                        0|                       0|                         0|                        0|         Following Too Clo...|     4541903|               Sedan|\n",
      "|2021-09-11|      9:35| BROOKLYN|   11208|40.667202|  -73.8665|(40.667202, -73.8...|             unknown|                        0|                       0|                            0|                           0|                        0|                       0|                         0|                        0|                  Unspecified|     4456314|               Sedan|\n",
      "|2021-12-14|      8:13| BROOKLYN|   11233|40.683304|-73.917274|(40.683304, -73.9...|     SARATOGA AVENUE|                        0|                       0|                            0|                           0|                        0|                       0|                         0|                        0|                      unknown|     4486609|             unknown|\n",
      "|2021-04-14|     12:47|  unknown| unknown|  unknown|   unknown|             unknown|MAJOR DEEGAN EXPR...|                        0|                       0|                            0|                           0|                        0|                       0|                         0|                        0|                  Unspecified|     4407458|                Dump|\n",
      "|2021-12-14|     17:05|  unknown| unknown|40.709183|-73.956825|(40.709183, -73.9...|BROOKLYN QUEENS E...|                        0|                       0|                            0|                           0|                        0|                       0|                         0|                        0|          Passing Too Closely|     4486555|               Sedan|\n",
      "|2021-12-14|      8:17|    BRONX|   10475| 40.86816| -73.83148|(40.86816, -73.83...|             unknown|                        2|                       0|                            0|                           0|                        0|                       0|                         2|                        0|                  Unspecified|     4486660|               Sedan|\n",
      "|2021-12-14|     21:10| BROOKLYN|   11207| 40.67172|  -73.8971|(40.67172, -73.8971)|             unknown|                        0|                       0|                            0|                           0|                        0|                       0|                         0|                        0|          Driver Inexperience|     4487074|               Sedan|\n",
      "|2021-12-14|     14:58|MANHATTAN|   10017| 40.75144| -73.97397|(40.75144, -73.97...|            3 AVENUE|                        0|                       0|                            0|                           0|                        0|                       0|                         0|                        0|          Passing Too Closely|     4486519|               Sedan|\n",
      "|2021-12-13|      0:34|  unknown| unknown|40.701275| -73.88887|(40.701275, -73.8...|       MYRTLE AVENUE|                        0|                       0|                            0|                           0|                        0|                       0|                         0|                        0|         Passing or Lane U...|     4486934|Station Wagon/Spo...|\n",
      "|2021-12-14|     16:50|   QUEENS|   11413|40.675884| -73.75577|(40.675884, -73.7...|SPRINGFIELD BOULE...|                        0|                       0|                            0|                           0|                        0|                       0|                         0|                        0|           Turning Improperly|     4487127|               Sedan|\n",
      "|2021-12-14|      8:30|  unknown| unknown|  unknown|   unknown|             unknown|            broadway|                        0|                       0|                            0|                           0|                        0|                       0|                         0|                        0|         Unsafe Lane Changing|     4486634|Station Wagon/Spo...|\n",
      "|2021-12-14|      0:59|  unknown| unknown| 40.59662| -74.00231|(40.59662, -74.00...|        BELT PARKWAY|                        0|                       0|                            0|                           0|                        0|                       0|                         0|                        0|                 Unsafe Speed|     4486564|               Sedan|\n",
      "|2021-12-14|     23:10|   QUEENS|   11434| 40.66684| -73.78941|(40.66684, -73.78...|NORTH CONDUIT AVENUE|                        2|                       0|                            0|                           0|                        0|                       0|                         2|                        0|         Reaction to Uninv...|     4486635|               Sedan|\n",
      "|2021-12-14|     17:58| BROOKLYN|   11217| 40.68158| -73.97463|(40.68158, -73.97...|             unknown|                        0|                       0|                            0|                           0|                        0|                       0|                         0|                        0|          Passing Too Closely|     4486604|              Tanker|\n",
      "|2021-12-14|     20:03| BROOKLYN|   11226| 40.65068| -73.95881|(40.65068, -73.95...|             unknown|                        4|                       0|                            0|                           0|                        0|                       0|                         4|                        0|             Steering Failure|     4486991|               Sedan|\n",
      "|2021-12-14|      1:28|  unknown| unknown|  unknown|   unknown|             unknown|       MEEKER AVENUE|                        3|                       0|                            0|                           0|                        0|                       0|                         3|                        0|         Traffic Control D...|     4486284|Station Wagon/Spo...|\n",
      "|2021-12-11|     19:43|    BRONX|   10463| 40.87262|-73.904686|(40.87262, -73.90...|WEST KINGSBRIDGE ...|                        1|                       0|                            0|                           0|                        0|                       0|                         1|                        0|                  Unspecified|     4487040|Station Wagon/Spo...|\n",
      "|2021-12-14|     14:30|  unknown| unknown|40.783268| -73.82485|(40.783268, -73.8...|WHITESTONE EXPRES...|                        0|                       0|                            0|                           0|                        0|                       0|                         0|                        0|         Following Too Clo...|     4486537|Station Wagon/Spo...|\n",
      "+----------+----------+---------+--------+---------+----------+--------------------+--------------------+-------------------------+------------------------+-----------------------------+----------------------------+-------------------------+------------------------+--------------------------+-------------------------+-----------------------------+------------+--------------------+\n",
      "only showing top 20 rows\n",
      "\n"
     ]
    }
   ],
   "source": [
    "# Coverting string column null values\n",
    "string_columns = [ \"BOROUGH\",\n",
    "                  \"ZIP CODE\",\n",
    "                  \"LATITUDE\",\n",
    "                  \"LONGITUDE\",\n",
    "                  \"LOCATION\",\n",
    "                  \"ON STREET NAME\", \n",
    "                  \"CONTRIBUTING FACTOR VEHICLE 1\",\n",
    "                  \"VEHICLE TYPE CODE 1\"]\n",
    "\n",
    "for column in string_columns:\n",
    "    data = data.withColumn(column, col(column).cast(\"string\"))\n",
    "    data = data.fillna({column: 'unknown'})\n",
    "\n",
    "# Show DataFrame with null values replaced by 'unknown'\n",
    "data.show()"
   ]
  },
  {
   "cell_type": "markdown",
   "id": "78d65ba4",
   "metadata": {},
   "source": [
    "Checking for duplicate rows"
   ]
  },
  {
   "cell_type": "code",
   "execution_count": 16,
   "id": "8c3d7c0b",
   "metadata": {},
   "outputs": [
    {
     "name": "stderr",
     "output_type": "stream",
     "text": [
      "24/04/10 17:00:04 WARN RowBasedKeyValueBatch: Calling spill() on RowBasedKeyValueBatch. Will not spill but return 0.\n",
      "24/04/10 17:00:04 WARN RowBasedKeyValueBatch: Calling spill() on RowBasedKeyValueBatch. Will not spill but return 0.\n",
      "24/04/10 17:00:04 WARN RowBasedKeyValueBatch: Calling spill() on RowBasedKeyValueBatch. Will not spill but return 0.\n",
      "24/04/10 17:00:06 WARN RowBasedKeyValueBatch: Calling spill() on RowBasedKeyValueBatch. Will not spill but return 0.\n",
      "24/04/10 17:00:06 WARN RowBasedKeyValueBatch: Calling spill() on RowBasedKeyValueBatch. Will not spill but return 0.\n",
      "24/04/10 17:00:07 WARN RowBasedKeyValueBatch: Calling spill() on RowBasedKeyValueBatch. Will not spill but return 0.\n",
      "24/04/10 17:00:14 WARN RowBasedKeyValueBatch: Calling spill() on RowBasedKeyValueBatch. Will not spill but return 0.\n",
      "24/04/10 17:00:14 WARN RowBasedKeyValueBatch: Calling spill() on RowBasedKeyValueBatch. Will not spill but return 0.\n",
      "24/04/10 17:00:14 WARN RowBasedKeyValueBatch: Calling spill() on RowBasedKeyValueBatch. Will not spill but return 0.\n",
      "24/04/10 17:00:14 WARN RowBasedKeyValueBatch: Calling spill() on RowBasedKeyValueBatch. Will not spill but return 0.\n",
      "24/04/10 17:00:14 WARN RowBasedKeyValueBatch: Calling spill() on RowBasedKeyValueBatch. Will not spill but return 0.\n",
      "24/04/10 17:00:14 WARN RowBasedKeyValueBatch: Calling spill() on RowBasedKeyValueBatch. Will not spill but return 0.\n",
      "24/04/10 17:00:14 WARN RowBasedKeyValueBatch: Calling spill() on RowBasedKeyValueBatch. Will not spill but return 0.\n",
      "24/04/10 17:00:14 WARN RowBasedKeyValueBatch: Calling spill() on RowBasedKeyValueBatch. Will not spill but return 0.\n"
     ]
    },
    {
     "name": "stdout",
     "output_type": "stream",
     "text": [
      "There are no duplicate rows in the DataFrame.\n"
     ]
    },
    {
     "name": "stderr",
     "output_type": "stream",
     "text": [
      "\r",
      "[Stage 42:===================>                                      (3 + 6) / 9]\r",
      "\r",
      "                                                                                \r"
     ]
    }
   ],
   "source": [
    "# Check for duplicate rows\n",
    "duplicate_rows = data.count() - data.dropDuplicates().count()\n",
    "\n",
    "if duplicate_rows > 0:\n",
    "    print(f\"There are {duplicate_rows} duplicate rows in the DataFrame.\")\n",
    "else:\n",
    "    print(\"There are no duplicate rows in the DataFrame.\")"
   ]
  },
  {
   "cell_type": "markdown",
   "id": "f5b7ab38",
   "metadata": {},
   "source": [
    "As you observe above There are no duplicate values in dataframe"
   ]
  },
  {
   "cell_type": "code",
   "execution_count": 17,
   "id": "9cb8452c",
   "metadata": {},
   "outputs": [
    {
     "name": "stdout",
     "output_type": "stream",
     "text": [
      "+----------+----------+---------+--------+---------+----------+--------------------+--------------------+-------------------------+------------------------+-----------------------------+----------------------------+-------------------------+------------------------+--------------------------+-------------------------+-----------------------------+------------+--------------------+\n",
      "|CRASH DATE|CRASH TIME|  BOROUGH|ZIP CODE| LATITUDE| LONGITUDE|            LOCATION|      ON STREET NAME|NUMBER OF PERSONS INJURED|NUMBER OF PERSONS KILLED|NUMBER OF PEDESTRIANS INJURED|NUMBER OF PEDESTRIANS KILLED|NUMBER OF CYCLIST INJURED|NUMBER OF CYCLIST KILLED|NUMBER OF MOTORIST INJURED|NUMBER OF MOTORIST KILLED|CONTRIBUTING FACTOR VEHICLE 1|COLLISION_ID| VEHICLE TYPE CODE 1|\n",
      "+----------+----------+---------+--------+---------+----------+--------------------+--------------------+-------------------------+------------------------+-----------------------------+----------------------------+-------------------------+------------------------+--------------------------+-------------------------+-----------------------------+------------+--------------------+\n",
      "|2021-09-11|      2:39|  unknown| unknown|  unknown|   unknown|             unknown|WHITESTONE EXPRES...|                        2|                       0|                            0|                           0|                        0|                       0|                         2|                        0|         Aggressive Drivin...|     4455765|               Sedan|\n",
      "|2022-03-26|     11:45|  unknown| unknown|  unknown|   unknown|             unknown|QUEENSBORO BRIDGE...|                        1|                       0|                            0|                           0|                        0|                       0|                         1|                        0|            Pavement Slippery|     4513547|               Sedan|\n",
      "|2022-06-29|      6:55|  unknown| unknown|  unknown|   unknown|             unknown|  THROGS NECK BRIDGE|                        0|                       0|                            0|                           0|                        0|                       0|                         0|                        0|         Following Too Clo...|     4541903|               Sedan|\n",
      "|2021-09-11|      9:35| BROOKLYN|   11208|40.667202|  -73.8665|(40.667202, -73.8...|             unknown|                        0|                       0|                            0|                           0|                        0|                       0|                         0|                        0|                  Unspecified|     4456314|               Sedan|\n",
      "|2021-12-14|      8:13| BROOKLYN|   11233|40.683304|-73.917274|(40.683304, -73.9...|     SARATOGA AVENUE|                        0|                       0|                            0|                           0|                        0|                       0|                         0|                        0|                      unknown|     4486609|             unknown|\n",
      "|2021-04-14|     12:47|  unknown| unknown|  unknown|   unknown|             unknown|MAJOR DEEGAN EXPR...|                        0|                       0|                            0|                           0|                        0|                       0|                         0|                        0|                  Unspecified|     4407458|                Dump|\n",
      "|2021-12-14|     17:05|  unknown| unknown|40.709183|-73.956825|(40.709183, -73.9...|BROOKLYN QUEENS E...|                        0|                       0|                            0|                           0|                        0|                       0|                         0|                        0|          Passing Too Closely|     4486555|               Sedan|\n",
      "|2021-12-14|      8:17|    BRONX|   10475| 40.86816| -73.83148|(40.86816, -73.83...|             unknown|                        2|                       0|                            0|                           0|                        0|                       0|                         2|                        0|                  Unspecified|     4486660|               Sedan|\n",
      "|2021-12-14|     21:10| BROOKLYN|   11207| 40.67172|  -73.8971|(40.67172, -73.8971)|             unknown|                        0|                       0|                            0|                           0|                        0|                       0|                         0|                        0|          Driver Inexperience|     4487074|               Sedan|\n",
      "|2021-12-14|     14:58|MANHATTAN|   10017| 40.75144| -73.97397|(40.75144, -73.97...|            3 AVENUE|                        0|                       0|                            0|                           0|                        0|                       0|                         0|                        0|          Passing Too Closely|     4486519|               Sedan|\n",
      "|2021-12-13|      0:34|  unknown| unknown|40.701275| -73.88887|(40.701275, -73.8...|       MYRTLE AVENUE|                        0|                       0|                            0|                           0|                        0|                       0|                         0|                        0|         Passing or Lane U...|     4486934|Station Wagon/Spo...|\n",
      "|2021-12-14|     16:50|   QUEENS|   11413|40.675884| -73.75577|(40.675884, -73.7...|SPRINGFIELD BOULE...|                        0|                       0|                            0|                           0|                        0|                       0|                         0|                        0|           Turning Improperly|     4487127|               Sedan|\n",
      "|2021-12-14|      8:30|  unknown| unknown|  unknown|   unknown|             unknown|            broadway|                        0|                       0|                            0|                           0|                        0|                       0|                         0|                        0|         Unsafe Lane Changing|     4486634|Station Wagon/Spo...|\n",
      "|2021-12-14|      0:59|  unknown| unknown| 40.59662| -74.00231|(40.59662, -74.00...|        BELT PARKWAY|                        0|                       0|                            0|                           0|                        0|                       0|                         0|                        0|                 Unsafe Speed|     4486564|               Sedan|\n",
      "|2021-12-14|     23:10|   QUEENS|   11434| 40.66684| -73.78941|(40.66684, -73.78...|NORTH CONDUIT AVENUE|                        2|                       0|                            0|                           0|                        0|                       0|                         2|                        0|         Reaction to Uninv...|     4486635|               Sedan|\n",
      "|2021-12-14|     17:58| BROOKLYN|   11217| 40.68158| -73.97463|(40.68158, -73.97...|             unknown|                        0|                       0|                            0|                           0|                        0|                       0|                         0|                        0|          Passing Too Closely|     4486604|              Tanker|\n",
      "|2021-12-14|     20:03| BROOKLYN|   11226| 40.65068| -73.95881|(40.65068, -73.95...|             unknown|                        4|                       0|                            0|                           0|                        0|                       0|                         4|                        0|             Steering Failure|     4486991|               Sedan|\n",
      "|2021-12-14|      1:28|  unknown| unknown|  unknown|   unknown|             unknown|       MEEKER AVENUE|                        3|                       0|                            0|                           0|                        0|                       0|                         3|                        0|         Traffic Control D...|     4486284|Station Wagon/Spo...|\n",
      "|2021-12-11|     19:43|    BRONX|   10463| 40.87262|-73.904686|(40.87262, -73.90...|WEST KINGSBRIDGE ...|                        1|                       0|                            0|                           0|                        0|                       0|                         1|                        0|                  Unspecified|     4487040|Station Wagon/Spo...|\n",
      "|2021-12-14|     14:30|  unknown| unknown|40.783268| -73.82485|(40.783268, -73.8...|WHITESTONE EXPRES...|                        0|                       0|                            0|                           0|                        0|                       0|                         0|                        0|         Following Too Clo...|     4486537|Station Wagon/Spo...|\n",
      "+----------+----------+---------+--------+---------+----------+--------------------+--------------------+-------------------------+------------------------+-----------------------------+----------------------------+-------------------------+------------------------+--------------------------+-------------------------+-----------------------------+------------+--------------------+\n",
      "only showing top 20 rows\n",
      "\n"
     ]
    }
   ],
   "source": [
    "data.show()"
   ]
  },
  {
   "cell_type": "code",
   "execution_count": null,
   "id": "9d91d27a",
   "metadata": {},
   "outputs": [],
   "source": []
  }
 ],
 "metadata": {
  "kernelspec": {
   "display_name": "Python 3 (ipykernel)",
   "language": "python",
   "name": "python3"
  },
  "language_info": {
   "codemirror_mode": {
    "name": "ipython",
    "version": 3
   },
   "file_extension": ".py",
   "mimetype": "text/x-python",
   "name": "python",
   "nbconvert_exporter": "python",
   "pygments_lexer": "ipython3",
   "version": "3.11.4"
  }
 },
 "nbformat": 4,
 "nbformat_minor": 5
}
